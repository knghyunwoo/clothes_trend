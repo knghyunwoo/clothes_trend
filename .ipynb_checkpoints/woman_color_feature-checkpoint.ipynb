{
 "cells": [
  {
   "cell_type": "code",
   "execution_count": 19,
   "id": "99c532a9",
   "metadata": {},
   "outputs": [],
   "source": [
    "import cv2\n",
    "from PIL import ImageFont, ImageDraw, Image\n",
    "import numpy as np\n",
    "import time\n",
    "import os\n",
    "import matplotlib.pyplot as plt"
   ]
  },
  {
   "cell_type": "code",
   "execution_count": 20,
   "id": "e44077cc",
   "metadata": {},
   "outputs": [
    {
     "name": "stdout",
     "output_type": "stream",
     "text": [
      "['short sleeve top', 'long sleeve top', 'short sleeve outwear', 'long sleeve outwear', 'vest', 'sling', 'shorts', 'trousers', 'skirt', 'short sleeve dress', 'long sleeve dress', 'vest dress', 'sling dress']\n"
     ]
    }
   ],
   "source": [
    "# YOLO 설정 파일 Path\n",
    "labelsPath = os.getcwd()+\"\\\\df2.names\" # Hand 라벨\n",
    "weightsPath = os.getcwd()+\"\\\\yolov3-df2_15000.weights\" # 가중치\n",
    "configPath = os.getcwd()+\"\\\\yolov3-df2.cfg\" # 모델 구성\n",
    "\n",
    "# YOLO 라벨(hand) 호출\n",
    "YOLO_LABELS = open(labelsPath).read().strip().split(\"\\n\")\n",
    "\n",
    "# YOLO 모델 호출\n",
    "yolo_net = cv2.dnn.readNetFromDarknet(configPath, weightsPath)\n",
    "\n",
    "# YOLO 출력층 설정\n",
    "layer_names = yolo_net.getLayerNames()\n",
    "output_layers = [layer_names[i[0] - 1] for i in yolo_net.getUnconnectedOutLayers()]\n",
    "colors = np.random.uniform(0, 255, size=(len(YOLO_LABELS), 3))\n",
    "\n",
    "print(YOLO_LABELS)\n",
    "\n",
    "frame_id = 0\n",
    "count=0"
   ]
  },
  {
   "cell_type": "code",
   "execution_count": 3,
   "id": "42295f2d",
   "metadata": {},
   "outputs": [],
   "source": [
    "def calculate_area(image, image_area, color):\n",
    "    result = 0\n",
    "    kernal = np.ones((5, 5), 'uint8')\n",
    "\n",
    "    # Convert BGR color space to HSV color space\n",
    "    hsv_image = cv2.cvtColor(image, cv2.COLOR_BGR2HSV)\n",
    "\n",
    "    # Define masks for each color\n",
    "    mask = cv2.inRange(hsv_image,\n",
    "        LOWER_HSV[color], UPPER_HSV[color])\n",
    "\n",
    "    # Create contour\n",
    "    mask = cv2.dilate(mask, kernal)\n",
    "    cv2.bitwise_and(image, image, mask=mask)\n",
    "    contours, _ = cv2.findContours(\n",
    "        mask, cv2.RETR_TREE, cv2.CHAIN_APPROX_SIMPLE)\n",
    "\n",
    "    # Track color\n",
    "    for contour in contours:\n",
    "        area = cv2.contourArea(contour)\n",
    "        if (area > image_area * 0.001):\n",
    "            _, _, w, h = cv2.boundingRect(contour)\n",
    "            result += w*h\n",
    "\n",
    "    return result\n",
    "\n",
    "def detect_color(image_path, leftup=None, rightdown=None):\n",
    "    # Get image\n",
    "    image = image_path\n",
    "#     image = cv2.imread(image_path)\n",
    "    if leftup != None and rightdown != None:\n",
    "        image = image[leftup[1]: rightdown[1], leftup[0]: rightdown[0]]\n",
    "\n",
    "    height, width, _ = image.shape\n",
    "    image_area = height * width\n",
    "\n",
    "    # Calcuate color areas\n",
    "    white_area = calculate_area(image, image_area, 'white')\n",
    "    red_area = calculate_area(image, image_area, 'red')\n",
    "    green_area = calculate_area(image, image_area, 'green')\n",
    "    blue_area = calculate_area(image, image_area, 'blue')\n",
    "    yellow_area = calculate_area(image, image_area, 'yellow')\n",
    "    orange_area = calculate_area(image, image_area, 'orange')\n",
    "    black_area = calculate_area(image, image_area, 'black')\n",
    "    grey_area = calculate_area(image, image_area, 'grey')\n",
    "    brown_area = calculate_area(image, image_area, 'brown')\n",
    "    navy_area = calculate_area(image, image_area, 'navy')\n",
    "    purple_area = calculate_area(image, image_area, 'purple')\n",
    "    pink_area = calculate_area(image, image_area, 'pink')\n",
    "\n",
    "    areas = {'white': white_area, 'grey': grey_area, 'black': black_area, 'brown': brown_area,\n",
    "             'blue': blue_area, 'navy': navy_area, 'purple': purple_area, 'green': green_area, 'red': red_area,\n",
    "             'orange': orange_area, 'yellow': yellow_area, 'pink': pink_area}\n",
    "    \n",
    "#     print(areas) \n",
    "    \n",
    "    return max(areas, key=lambda x : areas[x])\n",
    "\n"
   ]
  },
  {
   "cell_type": "code",
   "execution_count": 4,
   "id": "b276d3b4",
   "metadata": {},
   "outputs": [],
   "source": [
    "# color boundaries\n",
    "LOWER_HSV = {\n",
    "    'red': np.array([145, 100, 20], np.uint8),\n",
    "    \"orange\": np.array([10, 100, 100], np.uint8),\n",
    "    'yellow': np.array([17, 100, 20], np.uint8),\n",
    "    'green': np.array([60, 100, 20], np.uint8),\n",
    "    'blue': np.array([90, 100, 20], np.uint8),\n",
    "    \"navy\": np.array([110, 100, 20], np.uint8),\n",
    "    \"purple\": np.array([125, 100, 20], np.uint8),\n",
    "    \"pink\": np.array([0, 70, 20], np.uint8),\n",
    "    \"black\": np.array([0, 0, 0], np.uint8), \n",
    "    \"white\": np.array([0, 0, 80], np.uint8),\n",
    "    \"grey\": np.array([0, 0, 150], np.uint8), ###\n",
    "    \"brown\": np.array([10, 100, 20], np.uint8), ###\n",
    "}\n",
    "\n",
    "UPPER_HSV = {\n",
    "    'red': np.array([180, 255, 255], np.uint8),\n",
    "    \"orange\": np.array([20, 255, 255], np.uint8),\n",
    "    'yellow': np.array([35, 255, 255], np.uint8),\n",
    "    'green': np.array([90, 255, 255], np.uint8),\n",
    "    'blue': np.array([110, 255, 255], np.uint8),\n",
    "    \"navy\": np.array([125, 255, 255], np.uint8),\n",
    "    \"purple\": np.array([135, 255, 255], np.uint8),\n",
    "    \"pink\": np.array([6, 255, 250], np.uint8),\n",
    "    \"black\": np.array([180, 60, 80], np.uint8), \n",
    "    \"white\": np.array([120, 40, 177], np.uint8),\n",
    "    \"grey\": np.array([40, 30, 170], np.uint8), ###\n",
    "    \"brown\": np.array([20, 255, 200], np.uint8) ###\n",
    "}"
   ]
  },
  {
   "cell_type": "code",
   "execution_count": 30,
   "id": "17abca18",
   "metadata": {},
   "outputs": [],
   "source": [
    "def detect_feature(image_path):\n",
    "    img = cv2.imread(image_path, cv2.IMREAD_COLOR)\n",
    "    img_height, img_width, channels = img.shape\n",
    "\n",
    "    # Detecting objects\n",
    "    blob = cv2.dnn.blobFromImage(img, 0.00392, (416, 416),  swapRB=True, crop=False) #mean=(0,0,0)\n",
    "\n",
    "    yolo_net.setInput(blob)\n",
    "    outs = yolo_net.forward(output_layers)\n",
    "\n",
    "\n",
    "    # Showing informations on the screen\n",
    "    class_ids = []\n",
    "    confidences = [] \n",
    "    boxes = []\n",
    "\n",
    "    for out in outs:\n",
    "    #     print(out[0])\n",
    "        for detection in out:\n",
    "            scores = detection[5:]\n",
    "            class_id = np.argmax(scores)\n",
    "            confidence = scores[class_id]\n",
    "            if confidence > 0.01: # 0.6, 0.7 nms\n",
    "\n",
    "                # Object detected\n",
    "                center_x = int(detection[0] * img_width)\n",
    "                center_y = int(detection[1] * img_height)\n",
    "                width = int(detection[2] * img_width)\n",
    "                height = int(detection[3] * img_height)\n",
    "\n",
    "                # Rectangle coordinates\n",
    "                xx = int(center_x - width / 2)\n",
    "                yy = int(center_y - height / 2)\n",
    "\n",
    "                boxes.append([xx, yy, width, height])\n",
    "                confidences.append(float(confidence))\n",
    "                class_ids.append(class_id)\n",
    "\n",
    "\n",
    "    draw_img = img.copy()\n",
    "    count=0\n",
    "\n",
    "\n",
    "    max_temp = 0\n",
    "\n",
    "    ## NMS 처리하기\n",
    "    conf_threshold = 0.1\n",
    "    nms_threshold = 0.4\n",
    "    idxs = cv2.dnn.NMSBoxes(boxes, confidences, conf_threshold, nms_threshold)\n",
    "\n",
    "#     print(idxs)\n",
    "    feature_list = []\n",
    "\n",
    "    # NMS로 최종 filtering된 idxs를 이용하여 boxes, classes, confidences에서 해당하는 Object정보를 추출하고 시각화.\n",
    "    if len(idxs) > 0:\n",
    "        for i in idxs.flatten():\n",
    "            feature = {}\n",
    "            box = boxes[i]\n",
    "            if box[1] < 0: box[1] = 0\n",
    "            if box[0] < 0: box[0] = 0\n",
    "            left = box[0]\n",
    "            top = box[1]\n",
    "            width = box[2]\n",
    "            height = box[3]\n",
    "            if width*height > max_temp:\n",
    "                max_temp = width*height\n",
    "            # labels_to_names 딕셔너리로 class_id값을 클래스명으로 변경. opencv에서는 class_id + 1로 매핑해야함.\n",
    "                caption = \"{}: {:.4f}\".format(YOLO_LABELS[class_ids[i]], confidences[i])\n",
    "                feature[YOLO_LABELS[class_ids[i]]] = \"N/A\"\n",
    "                #cv2.rectangle()은 인자로 들어온 draw_img에 사각형을 그림. 위치 인자는 반드시 정수형.\n",
    "                cv2.rectangle(draw_img, (int(left), int(top)), (int(left+width), int(top+height)), color=(0,255,0), thickness=2)\n",
    "\n",
    "                crop_img = img[top:top + height, left:left + width]\n",
    "                feature[YOLO_LABELS[class_ids[i]]] = detect_color(crop_img)\n",
    "                print(YOLO_LABELS[class_ids[i]])\n",
    "                count += 1\n",
    "                feature_list.append(feature)\n",
    "            else: \n",
    "                continue\n",
    "#     else:\n",
    "#         feature[\"N/A\"] = \"N/A\"\n",
    "#         feature_list.append(feature)\n",
    "\n",
    "#     img_rgb = cv2.cvtColor(draw_img, cv2.COLOR_BGR2RGB)\n",
    "#     plt.figure(figsize=(12, 12))\n",
    "#     plt.imshow(img_rgb)\n",
    "    \n",
    "    return feature_list\n",
    "\n"
   ]
  },
  {
   "cell_type": "code",
   "execution_count": 31,
   "id": "0a0fed21",
   "metadata": {},
   "outputs": [
    {
     "name": "stdout",
     "output_type": "stream",
     "text": [
      "long sleeve top\n"
     ]
    },
    {
     "data": {
      "text/plain": [
       "[{'long sleeve top': 'black'}]"
      ]
     },
     "execution_count": 31,
     "metadata": {},
     "output_type": "execute_result"
    }
   ],
   "source": [
    "detect_feature(f\"./shein_women_crawled\\\\best4.jpg\")"
   ]
  },
  {
   "cell_type": "code",
   "execution_count": 6,
   "id": "f9bb714e",
   "metadata": {
    "scrolled": true
   },
   "outputs": [
    {
     "name": "stdout",
     "output_type": "stream",
     "text": [
      "[{'skirt': 'white'}, {'short sleeve top': 'white'}, {'short sleeve top': 'white'}, {'long sleeve top': 'white'}, {'trousers': 'white'}, {'long sleeve top': 'black'}, {'skirt': 'grey'}, {'trousers': 'white'}, {'trousers': 'black'}, {'shorts': 'black'}, {'long sleeve top': 'black'}, {'trousers': 'black'}, {'short sleeve top': 'brown'}, {'trousers': 'white'}, {'long sleeve outwear': 'black'}, {'short sleeve top': 'black'}, {'short sleeve dress': 'black'}, {'short sleeve dress': 'orange'}, {'short sleeve top': 'black'}, {'long sleeve outwear': 'black'}, {'trousers': 'black'}, {'short sleeve dress': 'white'}, {'vest': 'brown'}, {'shorts': 'brown'}, {'short sleeve top': 'green'}, {'sling dress': 'brown'}, {'short sleeve top': 'black'}, {'short sleeve top': 'brown'}, {'long sleeve top': 'black'}, {'vest dress': 'white'}, {'short sleeve top': 'brown'}, {'sling dress': 'blue'}, {'sling dress': 'red'}, {'trousers': 'black'}, {'short sleeve top': 'brown'}, {'trousers': 'white'}, {'trousers': 'black'}, {'trousers': 'brown'}, {'short sleeve dress': 'brown'}, {'skirt': 'navy'}, {'trousers': 'blue'}, {'skirt': 'white'}, {'long sleeve dress': 'brown'}, {'long sleeve top': 'white'}, {'short sleeve top': 'white'}, {'short sleeve top': 'white'}, {'vest': 'brown'}, {'short sleeve top': 'white'}, {'trousers': 'blue'}, {'shorts': 'black'}, {'trousers': 'pink'}, {'trousers': 'black'}, {'short sleeve dress': 'white'}, {'long sleeve top': 'black'}, {'trousers': 'white'}, {'long sleeve top': 'white'}, {'short sleeve dress': 'white'}, {'short sleeve top': 'yellow'}, {'trousers': 'navy'}, {'short sleeve dress': 'white'}, {'long sleeve top': 'brown'}, {'long sleeve top': 'brown'}]\n"
     ]
    }
   ],
   "source": [
    "women_list = []\n",
    "men_list = []\n",
    "\n",
    "\n",
    "for i in range(1, 31): #4001\n",
    "    try:\n",
    "        women_list.extend(detect_feature(f\"./shein_women_crawled\\\\best{i}.jpg\"))\n",
    "        women_list.extend(detect_feature(f\"./wconcept_women_crawled\\\\best{i}.jpg\"))\n",
    "    except:\n",
    "        continue\n",
    "\n",
    "\n",
    "print(women_list)\n"
   ]
  },
  {
   "cell_type": "code",
   "execution_count": 7,
   "id": "f6ee138f",
   "metadata": {},
   "outputs": [],
   "source": [
    "feature_only = []\n",
    "color_only = []\n",
    "\n",
    "for i in women_list:\n",
    "    feature_only.extend(list(i.keys()))\n",
    "    color_only.extend(list(i.values()))\n"
   ]
  },
  {
   "cell_type": "code",
   "execution_count": 8,
   "id": "91cdd29a",
   "metadata": {
    "scrolled": true
   },
   "outputs": [
    {
     "name": "stdout",
     "output_type": "stream",
     "text": [
      "['skirt', 'short sleeve top', 'short sleeve top', 'long sleeve top', 'trousers', 'long sleeve top', 'skirt', 'trousers', 'trousers', 'shorts', 'long sleeve top', 'trousers', 'short sleeve top', 'trousers', 'long sleeve outwear', 'short sleeve top', 'short sleeve dress', 'short sleeve dress', 'short sleeve top', 'long sleeve outwear', 'trousers', 'short sleeve dress', 'vest', 'shorts', 'short sleeve top', 'sling dress', 'short sleeve top', 'short sleeve top', 'long sleeve top', 'vest dress', 'short sleeve top', 'sling dress', 'sling dress', 'trousers', 'short sleeve top', 'trousers', 'trousers', 'trousers', 'short sleeve dress', 'skirt', 'trousers', 'skirt', 'long sleeve dress', 'long sleeve top', 'short sleeve top', 'short sleeve top', 'vest', 'short sleeve top', 'trousers', 'shorts', 'trousers', 'trousers', 'short sleeve dress', 'long sleeve top', 'trousers', 'long sleeve top', 'short sleeve dress', 'short sleeve top', 'trousers', 'short sleeve dress', 'long sleeve top', 'long sleeve top']\n",
      "['white', 'white', 'white', 'white', 'white', 'black', 'grey', 'white', 'black', 'black', 'black', 'black', 'brown', 'white', 'black', 'black', 'black', 'orange', 'black', 'black', 'black', 'white', 'brown', 'brown', 'green', 'brown', 'black', 'brown', 'black', 'white', 'brown', 'blue', 'red', 'black', 'brown', 'white', 'black', 'brown', 'brown', 'navy', 'blue', 'white', 'brown', 'white', 'white', 'white', 'brown', 'white', 'blue', 'black', 'pink', 'black', 'white', 'black', 'white', 'white', 'white', 'yellow', 'navy', 'white', 'brown', 'brown']\n"
     ]
    }
   ],
   "source": [
    "print(feature_only)\n",
    "print(color_only)"
   ]
  },
  {
   "cell_type": "code",
   "execution_count": 9,
   "id": "50826641",
   "metadata": {},
   "outputs": [
    {
     "name": "stdout",
     "output_type": "stream",
     "text": [
      "{'trousers': 16, 'short sleeve top': 14, 'long sleeve top': 9, 'short sleeve dress': 7, 'skirt': 4, 'shorts': 3, 'sling dress': 3, 'long sleeve outwear': 2, 'vest': 2, 'vest dress': 1, 'long sleeve dress': 1}\n",
      "{'white': 20, 'black': 18, 'brown': 13, 'blue': 3, 'navy': 2, 'grey': 1, 'orange': 1, 'green': 1, 'red': 1, 'pink': 1, 'yellow': 1}\n"
     ]
    }
   ],
   "source": [
    "from collections import Counter\n",
    "\n",
    "feature_only_order = dict(sorted(dict(Counter(feature_only)).items(), key=(lambda x:x[1]), reverse=True))\n",
    "color_only_order = dict(sorted(dict(Counter(color_only)).items(), key=(lambda x:x[1]), reverse=True))\n",
    "\n",
    "print(feature_only_order)\n",
    "print(color_only_order)"
   ]
  },
  {
   "cell_type": "code",
   "execution_count": 10,
   "id": "8cd7398c",
   "metadata": {
    "scrolled": true
   },
   "outputs": [
    {
     "name": "stdout",
     "output_type": "stream",
     "text": [
      "62\n"
     ]
    }
   ],
   "source": [
    "print(len(color_only))"
   ]
  },
  {
   "cell_type": "code",
   "execution_count": 17,
   "id": "e6d8ee06",
   "metadata": {
    "scrolled": true
   },
   "outputs": [
    {
     "data": {
      "image/png": "[encoded data removed]",
      "text/plain": [
       "<Figure size 432x288 with 1 Axes>"
      ]
     },
     "metadata": {},
     "output_type": "display_data"
    },
    {
     "data": {
      "text/plain": [
       "<Figure size 432x288 with 0 Axes>"
      ]
     },
     "metadata": {},
     "output_type": "display_data"
    }
   ],
   "source": [
    "plt.pie(feature_only_order.values(), labels=feature_only_order.keys(), autopct='%.1f%%')\n",
    "plt.show()\n",
    "plt.savefig('./woman_feature_only.jpg', dpi=300)"
   ]
  },
  {
   "cell_type": "code",
   "execution_count": 18,
   "id": "8ad10ef3",
   "metadata": {},
   "outputs": [
    {
     "data": {
      "image/png": "[encoded data removed]",
      "text/plain": [
       "<Figure size 432x288 with 1 Axes>"
      ]
     },
     "metadata": {},
     "output_type": "display_data"
    },
    {
     "data": {
      "text/plain": [
       "<Figure size 432x288 with 0 Axes>"
      ]
     },
     "metadata": {},
     "output_type": "display_data"
    }
   ],
   "source": [
    "plt.pie(color_only_order.values(), labels=color_only_order.keys(), autopct='%.1f%%')\n",
    "plt.show()\n",
    "plt.savefig('./woman_color_only.png')"
   ]
  },
  {
   "cell_type": "code",
   "execution_count": null,
   "id": "b74273ab",
   "metadata": {},
   "outputs": [],
   "source": []
  }
 ],
 "metadata": {
  "kernelspec": {
   "display_name": "Python 3",
   "language": "python",
   "name": "python3"
  },
  "language_info": {
   "codemirror_mode": {
    "name": "ipython",
    "version": 3
   },
   "file_extension": ".py",
   "mimetype": "text/x-python",
   "name": "python",
   "nbconvert_exporter": "python",
   "pygments_lexer": "ipython3",
   "version": "3.8.5"
  }
 },
 "nbformat": 4,
 "nbformat_minor": 5
}
